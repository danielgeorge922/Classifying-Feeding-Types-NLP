{
 "cells": [
  {
   "cell_type": "code",
   "execution_count": 1,
   "id": "initial_id",
   "metadata": {
    "collapsed": true,
    "ExecuteTime": {
     "end_time": "2024-06-14T02:06:33.016882500Z",
     "start_time": "2024-06-14T02:06:30.302268900Z"
    }
   },
   "outputs": [],
   "source": [
    "import pandas as pd\n",
    "import numpy as np\n",
    "from sklearn.utils import resample\n",
    "from sklearn.model_selection import train_test_split\n",
    "from sklearn.feature_extraction.text import TfidfVectorizer\n",
    "from sklearn.linear_model import LogisticRegression\n",
    "from sklearn.metrics import classification_report\n",
    "from nltk.corpus import stopwords\n",
    "from nltk.stem import PorterStemmer, WordNetLemmatizer\n",
    "import nltk\n",
    "\n",
    "#import necessary libraries"
   ]
  },
  {
   "cell_type": "code",
   "execution_count": 6,
   "outputs": [
    {
     "name": "stdout",
     "output_type": "stream",
     "text": [
      "classification\n",
      "1                 847\n",
      "0                 700\n",
      "3                 320\n",
      "2                 141\n",
      "Name: count, dtype: int64\n",
      "              precision    recall  f1-score   support\n",
      "\n",
      "           0       0.82      0.95      0.88       140\n",
      "           1       0.82      0.90      0.86       170\n",
      "           2       1.00      0.29      0.44        28\n",
      "           3       0.91      0.66      0.76        64\n",
      "\n",
      "    accuracy                           0.84       402\n",
      "   macro avg       0.89      0.70      0.74       402\n",
      "weighted avg       0.85      0.84      0.82       402\n"
     ]
    }
   ],
   "source": [
    "df = pd.read_csv('../data/cleaned_data/final_notes.csv')\n",
    "\n",
    "# Split the dataset into features and target\n",
    "X = df['notes']\n",
    "y = df['classification']\n",
    "\n",
    "print(df.value_counts(['classification']))\n",
    "# Split the data into training and testing sets\n",
    "X_train, X_test, y_train, y_test = train_test_split(X, y, test_size=0.2, random_state=42, stratify=y)\n",
    "\n",
    "# Vectorize the text data\n",
    "vectorizer = TfidfVectorizer()\n",
    "X_train_vect = vectorizer.fit_transform(X_train).toarray()\n",
    "X_test_vect = vectorizer.transform(X_test).toarray()\n",
    "\n",
    "# Train a simple model\n",
    "model = LogisticRegression(max_iter=200)\n",
    "model.fit(X_train_vect, y_train)\n",
    "\n",
    "# Evaluate the model\n",
    "y_pred = model.predict(X_test_vect)\n",
    "print(classification_report(y_test, y_pred))\n"
   ],
   "metadata": {
    "collapsed": false,
    "ExecuteTime": {
     "end_time": "2024-06-14T02:09:28.096252200Z",
     "start_time": "2024-06-14T02:09:26.322893Z"
    }
   },
   "id": "eda319c53c557bd1"
  },
  {
   "cell_type": "code",
   "execution_count": null,
   "outputs": [],
   "source": [],
   "metadata": {
    "collapsed": false
   },
   "id": "a674dbe99102566e"
  }
 ],
 "metadata": {
  "kernelspec": {
   "display_name": "Python 3",
   "language": "python",
   "name": "python3"
  },
  "language_info": {
   "codemirror_mode": {
    "name": "ipython",
    "version": 2
   },
   "file_extension": ".py",
   "mimetype": "text/x-python",
   "name": "python",
   "nbconvert_exporter": "python",
   "pygments_lexer": "ipython2",
   "version": "2.7.6"
  }
 },
 "nbformat": 4,
 "nbformat_minor": 5
}
