{
 "cells": [
  {
   "cell_type": "code",
   "execution_count": 5,
   "id": "initial_id",
   "metadata": {
    "collapsed": true,
    "ExecuteTime": {
     "end_time": "2024-06-14T01:25:13.127958500Z",
     "start_time": "2024-06-14T01:25:12.135099Z"
    }
   },
   "outputs": [
    {
     "data": {
      "text/plain": "                                               notes  classification\n0  anaes in to see pt, report called to receiving...               0\n1  Patient reports speaking/understanding both in...               0\n2  Ambulated to bathroom with assistance, voided ...               0\n3  Problem: Knowledge Deficit Goal: Understands d...               1\n4  Pt states feeling occasional vaginal pressure....               0",
      "text/html": "<div>\n<style scoped>\n    .dataframe tbody tr th:only-of-type {\n        vertical-align: middle;\n    }\n\n    .dataframe tbody tr th {\n        vertical-align: top;\n    }\n\n    .dataframe thead th {\n        text-align: right;\n    }\n</style>\n<table border=\"1\" class=\"dataframe\">\n  <thead>\n    <tr style=\"text-align: right;\">\n      <th></th>\n      <th>notes</th>\n      <th>classification</th>\n    </tr>\n  </thead>\n  <tbody>\n    <tr>\n      <th>0</th>\n      <td>anaes in to see pt, report called to receiving...</td>\n      <td>0</td>\n    </tr>\n    <tr>\n      <th>1</th>\n      <td>Patient reports speaking/understanding both in...</td>\n      <td>0</td>\n    </tr>\n    <tr>\n      <th>2</th>\n      <td>Ambulated to bathroom with assistance, voided ...</td>\n      <td>0</td>\n    </tr>\n    <tr>\n      <th>3</th>\n      <td>Problem: Knowledge Deficit Goal: Understands d...</td>\n      <td>1</td>\n    </tr>\n    <tr>\n      <th>4</th>\n      <td>Pt states feeling occasional vaginal pressure....</td>\n      <td>0</td>\n    </tr>\n  </tbody>\n</table>\n</div>"
     },
     "execution_count": 5,
     "metadata": {},
     "output_type": "execute_result"
    }
   ],
   "source": [
    "import pandas as pd\n",
    "import numpy as np\n",
    "from sklearn.utils import resample\n",
    "\n",
    "df = pd.read_csv('../data/cleaned_data/classified_clinical_notes.csv')\n",
    "df.head()"
   ]
  },
  {
   "cell_type": "raw",
   "source": [
    "Print how many of each classification there are, in order to make a balanced dataset"
   ],
   "metadata": {
    "collapsed": false
   },
   "id": "8a7deaed43773ff2"
  },
  {
   "cell_type": "code",
   "execution_count": 7,
   "outputs": [
    {
     "name": "stdout",
     "output_type": "stream",
     "text": [
      "8691 847 141 320\n",
      "notes                                                                                                                                                                                                                                                                                classification\n",
      "I reviewed the patient's progress and care provided during the 24 hours for which this note is meant.  I agree with the evaluation and plan as written in the resident's note.  I was/am available to the patient and her care team.  [**NAME**]                                     0                 19\n",
      "I have reviewed the rationale for discharge. I agree with the resident/mid -wife's/advanced practice nurse's note and f/u plans for care.  [**NAME**]                                                                                                                                0                 19\n",
      "I reviewed the patient's history, physical exam findings and plan of care with the resident seeing this patient for admission/observation.  I agree with the findings of the resident and have any additions or changes herein written.  I was present and available.  AR Gregg. MD  0                 19\n",
      "Pt resting comfortably in bed. No questions or concerns verbalized at this time. Will continue to monitor.                                                                                                                                                                           0                 13\n",
      "Problem: Discharge Planning Goal: Safe Effective Discharge Outcome: Ongoing Reviewed pt's poc. Answered all current question. Pt verbalized understanding. Will continue to monitor.                                                                                                 0                 12\n",
      "                                                                                                                                                                                                                                                                                                       ..\n",
      "L. King CNM here to assess patient.                                                                                                                                                                                                                                                  0                  1\n",
      "L. King CNM reviewed FHT's at this time, will continue to monitor.                                                                                                                                                                                                                   0                  1\n",
      "L. King CNM to bs for evaluation. SVE as noted. Will admit for labor.                                                                                                                                                                                                                0                  1\n",
      "L. King at bedside to review tracing and reassure pt.                                                                                                                                                                                                                                0                  1\n",
      "zcs noted at 105. Pt denies any VB or LOF only 5 or so ctx an hour, will contimue to monitor closely                                                                                                                                                                                 0                  1\n",
      "Name: count, Length: 9544, dtype: int64\n"
     ]
    }
   ],
   "source": [
    "breastfeeding_amount = (df['classification']==1).sum()\n",
    "bottlefeeding_amount = (df['classification']==2).sum()\n",
    "nonrelated_amount = (df['classification']==0).sum()\n",
    "both_amount = (df['classification']==3).sum()\n",
    "\n",
    "print(nonrelated_amount, breastfeeding_amount, bottlefeeding_amount, both_amount)"
   ],
   "metadata": {
    "collapsed": false,
    "ExecuteTime": {
     "end_time": "2024-06-14T01:26:07.258552200Z",
     "start_time": "2024-06-14T01:26:07.207809500Z"
    }
   },
   "id": "412351cd5a0c6089"
  },
  {
   "cell_type": "raw",
   "source": [
    "The classifcation with the least amount of occurences is solely bottle feeding with 141\n",
    "\n",
    "The classification with the most occurences is nonrelated to feeding at 8691\n",
    "\n",
    "We need to adjust the amounts of classifications so that when training the model off this data, it doesn't grow a bias towards the more significantly occuring data"
   ],
   "metadata": {
    "collapsed": false
   },
   "id": "8e706f81f71edd9e"
  },
  {
   "cell_type": "code",
   "execution_count": 4,
   "outputs": [
    {
     "name": "stdout",
     "output_type": "stream",
     "text": [
      "141 211\n"
     ]
    }
   ],
   "source": [
    "smallest_class_size = min(breastfeeding_amount, bottlefeeding_amount, nonrelated_amount, both_amount)\n",
    "target_size = int(smallest_class_size * 1.5) \n",
    "print(smallest_class_size, target_size)"
   ],
   "metadata": {
    "collapsed": false,
    "ExecuteTime": {
     "end_time": "2024-06-14T01:17:31.470408800Z",
     "start_time": "2024-06-14T01:17:31.439733900Z"
    }
   },
   "id": "65fc3991a722cb41"
  },
  {
   "cell_type": "raw",
   "source": [
    "Using this implementation means we would have 211 instances of each classification meaning there would only be 844 total notes to train/test/validate off of.\n",
    "This is not a large amount so I would not take this approach"
   ],
   "metadata": {
    "collapsed": false
   },
   "id": "b4181dc66ceaab82"
  },
  {
   "cell_type": "code",
   "execution_count": 9,
   "outputs": [
    {
     "name": "stdout",
     "output_type": "stream",
     "text": [
      "classification\n",
      "1    847\n",
      "0    700\n",
      "3    320\n",
      "2    141\n",
      "Name: count, dtype: int64\n"
     ]
    }
   ],
   "source": [
    "target_nonrelated_size = 700\n",
    "\n",
    "# Undersample the nonrelated class to the target size\n",
    "df_nonrelated = resample(df[df['classification'] == 0], \n",
    "                         replace=False,  # No replacement for undersampling\n",
    "                         n_samples=target_nonrelated_size, \n",
    "                         random_state=42)\n",
    "\n",
    "# Keep the other classes as they are\n",
    "df_breastfeeding = df[df['classification'] == 1]\n",
    "df_bottlefeeding = df[df['classification'] == 2]\n",
    "df_both = df[df['classification'] == 3]\n",
    "\n",
    "# Concatenate the datasets\n",
    "df_balanced = pd.concat([df_nonrelated, df_breastfeeding, df_bottlefeeding, df_both])\n",
    "\n",
    "# Shuffle the dataset to mix the classes\n",
    "df_balanced = df_balanced.sample(frac=1, random_state=42).reset_index(drop=True)\n",
    "\n",
    "# Display the first few rows of the balanced dataframe\n",
    "df_balanced.head()\n",
    "\n",
    "# Print the new class distribution to confirm balancing\n",
    "print(df_balanced['classification'].value_counts())"
   ],
   "metadata": {
    "collapsed": false,
    "ExecuteTime": {
     "end_time": "2024-06-14T01:39:08.951060400Z",
     "start_time": "2024-06-14T01:39:08.918187700Z"
    }
   },
   "id": "8260064ccfbbe770"
  },
  {
   "cell_type": "raw",
   "source": [
    "Now that the data is more balanced we can begin to process it to become more fit for training into a model\n"
   ],
   "metadata": {
    "collapsed": false
   },
   "id": "f3ea64f7aceb3d3b"
  },
  {
   "cell_type": "code",
   "execution_count": 10,
   "outputs": [],
   "source": [
    "import spacy\n",
    "nlp = spacy.load('en_core_web_lg')\n",
    "#import spacy for removing stop words and lemmatizing text\n",
    "def preprocess_text(text):\n",
    "    doc = nlp(text)\n",
    "    # Remove stop words and lemmatize\n",
    "    tokens = [token.lemma_ for token in doc if not token.is_stop]\n",
    "    \n",
    "    # Join tokens back into a string\n",
    "    processed_text = ' '.join(tokens)\n",
    "    \n",
    "    return processed_text\n",
    "\n",
    "df_balanced['notes'] = df_balanced['notes'].apply(preprocess_text)\n",
    "\n",
    "df_balanced['notes'] = df_balanced['notes'].str.lower()\n",
    "#lowercase the text\n",
    "df_balanced['notes'] = df_balanced['notes'].str.replace('[^\\w\\s]', '', regex=True)\n",
    "#remove punctuation\n",
    "\n",
    "df_balanced.to_csv('../data/cleaned_data/final_notes.csv', index=False)"
   ],
   "metadata": {
    "collapsed": false,
    "ExecuteTime": {
     "end_time": "2024-06-14T01:59:10.139891800Z",
     "start_time": "2024-06-14T01:58:03.955974300Z"
    }
   },
   "id": "72159a76eacc1171"
  },
  {
   "cell_type": "code",
   "execution_count": null,
   "outputs": [],
   "source": [],
   "metadata": {
    "collapsed": false
   },
   "id": "dfa108560e4e6303"
  }
 ],
 "metadata": {
  "kernelspec": {
   "display_name": "Python 3",
   "language": "python",
   "name": "python3"
  },
  "language_info": {
   "codemirror_mode": {
    "name": "ipython",
    "version": 2
   },
   "file_extension": ".py",
   "mimetype": "text/x-python",
   "name": "python",
   "nbconvert_exporter": "python",
   "pygments_lexer": "ipython2",
   "version": "2.7.6"
  }
 },
 "nbformat": 4,
 "nbformat_minor": 5
}
