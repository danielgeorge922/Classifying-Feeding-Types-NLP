{
 "cells": [
  {
   "cell_type": "code",
   "execution_count": 1,
   "id": "initial_id",
   "metadata": {
    "collapsed": true,
    "ExecuteTime": {
     "end_time": "2024-06-13T00:19:30.001890200Z",
     "start_time": "2024-06-13T00:19:27.832393Z"
    }
   },
   "outputs": [],
   "source": [
    "import pandas as pd\n",
    "import numpy as np"
   ]
  },
  {
   "cell_type": "code",
   "execution_count": 2,
   "outputs": [
    {
     "data": {
      "text/plain": "                                               notes  classification\n0  Assumed care of pt at this time. Pt has EMX2 a...               0\n1   Dr [**NAME**] at bedside for tracing evaluation.               0\n2  Late deceleration noted for approximately 2 mi...               0\n3  PreOp Dx: 40 Week pregnancy Procedure: Cesarea...               0\n4  Dr. [**NAME**] in to see patient.  Strip revie...               0",
      "text/html": "<div>\n<style scoped>\n    .dataframe tbody tr th:only-of-type {\n        vertical-align: middle;\n    }\n\n    .dataframe tbody tr th {\n        vertical-align: top;\n    }\n\n    .dataframe thead th {\n        text-align: right;\n    }\n</style>\n<table border=\"1\" class=\"dataframe\">\n  <thead>\n    <tr style=\"text-align: right;\">\n      <th></th>\n      <th>notes</th>\n      <th>classification</th>\n    </tr>\n  </thead>\n  <tbody>\n    <tr>\n      <th>0</th>\n      <td>Assumed care of pt at this time. Pt has EMX2 a...</td>\n      <td>0</td>\n    </tr>\n    <tr>\n      <th>1</th>\n      <td>Dr [**NAME**] at bedside for tracing evaluation.</td>\n      <td>0</td>\n    </tr>\n    <tr>\n      <th>2</th>\n      <td>Late deceleration noted for approximately 2 mi...</td>\n      <td>0</td>\n    </tr>\n    <tr>\n      <th>3</th>\n      <td>PreOp Dx: 40 Week pregnancy Procedure: Cesarea...</td>\n      <td>0</td>\n    </tr>\n    <tr>\n      <th>4</th>\n      <td>Dr. [**NAME**] in to see patient.  Strip revie...</td>\n      <td>0</td>\n    </tr>\n  </tbody>\n</table>\n</div>"
     },
     "execution_count": 2,
     "metadata": {},
     "output_type": "execute_result"
    }
   ],
   "source": [
    "df = pd.read_csv('classified_clinical_notes.csv')\n",
    "df.head()"
   ],
   "metadata": {
    "collapsed": false,
    "ExecuteTime": {
     "end_time": "2024-06-13T00:20:22.953559100Z",
     "start_time": "2024-06-13T00:20:22.844833600Z"
    }
   },
   "id": "2d63589f85c5f6de"
  },
  {
   "cell_type": "markdown",
   "source": [
    "Print how many of each classification there are"
   ],
   "metadata": {
    "collapsed": false
   },
   "id": "c77ad9ba58289a1e"
  },
  {
   "cell_type": "code",
   "execution_count": 11,
   "outputs": [
    {
     "name": "stdout",
     "output_type": "stream",
     "text": [
      "60\n"
     ]
    }
   ],
   "source": [
    "breasfeeding_amount = (df['classification']==1).sum()\n",
    "print(breasfeeding_amount)"
   ],
   "metadata": {
    "collapsed": false,
    "ExecuteTime": {
     "end_time": "2024-06-13T00:30:22.698635800Z",
     "start_time": "2024-06-13T00:30:22.674642500Z"
    }
   },
   "id": "a04287da2ecf96bc"
  },
  {
   "cell_type": "code",
   "execution_count": 12,
   "outputs": [
    {
     "name": "stdout",
     "output_type": "stream",
     "text": [
      "12\n"
     ]
    }
   ],
   "source": [
    "bottlefeeding_amount = (df['classification']==2).sum()\n",
    "print(bottlefeeding_amount)"
   ],
   "metadata": {
    "collapsed": false,
    "ExecuteTime": {
     "end_time": "2024-06-13T00:30:23.289233400Z",
     "start_time": "2024-06-13T00:30:23.263015100Z"
    }
   },
   "id": "1b4ecb56c5492c6e"
  },
  {
   "cell_type": "code",
   "execution_count": 13,
   "outputs": [
    {
     "name": "stdout",
     "output_type": "stream",
     "text": [
      "769\n"
     ]
    }
   ],
   "source": [
    "nonrelated_amount = (df['classification']==0).sum()\n",
    "print(nonrelated_amount)"
   ],
   "metadata": {
    "collapsed": false,
    "ExecuteTime": {
     "end_time": "2024-06-13T00:30:24.033846200Z",
     "start_time": "2024-06-13T00:30:24.028831400Z"
    }
   },
   "id": "144a799d0325943d"
  },
  {
   "cell_type": "code",
   "execution_count": 14,
   "outputs": [
    {
     "name": "stdout",
     "output_type": "stream",
     "text": [
      "841\n"
     ]
    }
   ],
   "source": [
    "total = bottlefeeding_amount + breasfeeding_amount + nonrelated_amount\n",
    "print(total)"
   ],
   "metadata": {
    "collapsed": false,
    "ExecuteTime": {
     "end_time": "2024-06-13T00:31:14.385788300Z",
     "start_time": "2024-06-13T00:31:14.373122500Z"
    }
   },
   "id": "62aeccf30e85b5fc"
  },
  {
   "cell_type": "markdown",
   "source": [],
   "metadata": {
    "collapsed": false
   },
   "id": "7193ff18c1523894"
  }
 ],
 "metadata": {
  "kernelspec": {
   "display_name": "Python 3",
   "language": "python",
   "name": "python3"
  },
  "language_info": {
   "codemirror_mode": {
    "name": "ipython",
    "version": 2
   },
   "file_extension": ".py",
   "mimetype": "text/x-python",
   "name": "python",
   "nbconvert_exporter": "python",
   "pygments_lexer": "ipython2",
   "version": "2.7.6"
  }
 },
 "nbformat": 4,
 "nbformat_minor": 5
}
